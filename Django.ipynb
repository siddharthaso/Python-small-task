{
 "cells": [
  {
   "cell_type": "code",
   "execution_count": 1,
   "metadata": {
    "scrolled": true
   },
   "outputs": [
    {
     "ename": "SyntaxError",
     "evalue": "invalid syntax (2350607495.py, line 1)",
     "output_type": "error",
     "traceback": [
      "\u001b[0;36m  Input \u001b[0;32mIn [1]\u001b[0;36m\u001b[0m\n\u001b[0;31m    python3 -m pip install django\u001b[0m\n\u001b[0m               ^\u001b[0m\n\u001b[0;31mSyntaxError\u001b[0m\u001b[0;31m:\u001b[0m invalid syntax\n"
     ]
    }
   ],
   "source": [
    "python3 -m pip install django\n",
    "import django"
   ]
  },
  {
   "cell_type": "code",
   "execution_count": 13,
   "metadata": {},
   "outputs": [
    {
     "ename": "NameError",
     "evalue": "name 'django' is not defined",
     "output_type": "error",
     "traceback": [
      "\u001b[0;31m---------------------------------------------------------------------------\u001b[0m",
      "\u001b[0;31mNameError\u001b[0m                                 Traceback (most recent call last)",
      "\u001b[0;32m<ipython-input-13-529d63e4763b>\u001b[0m in \u001b[0;36m<module>\u001b[0;34m\u001b[0m\n\u001b[0;32m----> 1\u001b[0;31m \u001b[0mprint\u001b[0m\u001b[0;34m(\u001b[0m\u001b[0mdjango\u001b[0m\u001b[0;34m.\u001b[0m\u001b[0mget_version\u001b[0m\u001b[0;34m(\u001b[0m\u001b[0;34m)\u001b[0m\u001b[0;34m)\u001b[0m\u001b[0;34m\u001b[0m\u001b[0;34m\u001b[0m\u001b[0m\n\u001b[0m",
      "\u001b[0;31mNameError\u001b[0m: name 'django' is not defined"
     ]
    }
   ],
   "source": [
    "print(django.get_version())"
   ]
  },
  {
   "cell_type": "markdown",
   "metadata": {},
   "source": [
    "siddharthasodariya@sf-cpu-213:~$ python3 -V\n",
    "Python 3.8.10\n",
    "siddharthasodariya@sf-cpu-213:~$ python3.8 -V\n",
    "Python 3.8.10\n",
    "siddharthasodariya@sf-cpu-213:~$ which python\n",
    "siddharthasodariya@sf-cpu-213:~$ which python3\n",
    "/usr/bin/python3\n",
    "siddharthasodariya@sf-cpu-213:~$ which python3.8\n",
    "/usr/bin/python3.8\n",
    "siddharthasodariya@sf-cpu-213:~$ ls\n",
    " aaaaaaaaaaaaaaaaaaaa   git_command          Material      Pictures                python\n",
    " Desktop                HTML                 Music         Postgres-2.5.6-14.dmg   snap\n",
    " Documents              Java-script          Ontime_Logs   postgress.sh            Videos\n",
    " Downloads             'Learning Material'   pgadmin4      Public\n",
    "siddharthasodariya@sf-cpu-213:~$ mkdir Django"
   ]
  },
  {
   "cell_type": "markdown",
   "metadata": {},
   "source": [
    "siddharthasodariya@sf-cpu-213:~/Django$ pipenv --python 3.8.10\n",
    "Creating a virtualenv for this project...\n",
    "Pipfile: /home/siddharthasodariya/Django/Pipfile\n",
    "Using /usr/bin/python3.8 (3.8.10) to create virtualenv...\n",
    "⠸ Creating virtual environment...created virtual environment CPython3.8.10.final.0-64 in 194ms\n",
    "  creator CPython3Posix(dest=/home/siddharthasodariya/.local/share/virtualenvs/Django--zOZC_dN, clear=False, no_vcs_ignore=False, global=False)\n",
    "  seeder FromAppData(download=False, pip=bundle, setuptools=bundle, wheel=bundle, via=copy, app_data_dir=/home/siddharthasodariya/.local/share/virtualenv)\n",
    "    added seed packages: pip==22.0.4, setuptools==60.10.0, wheel==0.37.1\n",
    "  activators BashActivator,CShellActivator,FishActivator,NushellActivator,PowerShellActivator,PythonActivator\n",
    "\n",
    "✔ Successfully created virtual environment! \n",
    "Virtualenv location: /home/siddharthasodariya/.local/share/virtualenvs/Django--zOZC_dN\n",
    "Creating a Pipfile for this project...\n",
    "\n",
    "siddharthasodariya@sf-cpu-213:~/Django$ ls\n",
    "bin  include  lib  lib64  Pipfile  pyvenv.cfg"
   ]
  },
  {
   "cell_type": "markdown",
   "metadata": {},
   "source": [
    "siddharthasodariya@sf-cpu-213:~/Django$ ls -al\n",
    "total 28\n",
    "drwxrwxr-x  5 siddharthasodariya siddharthasodariya 4096 Mar 29 10:49 .\n",
    "drwxr-xr-x 32 siddharthasodariya siddharthasodariya 4096 Mar 29 10:38 ..\n",
    "drwxrwxr-x  2 siddharthasodariya siddharthasodariya 4096 Mar 29 10:42 bin\n",
    "drwxrwxr-x  2 siddharthasodariya siddharthasodariya 4096 Mar 29 10:42 include\n",
    "drwxrwxr-x  3 siddharthasodariya siddharthasodariya 4096 Mar 29 10:42 lib\n",
    "lrwxrwxrwx  1 siddharthasodariya siddharthasodariya    3 Mar 29 10:42 lib64 -> lib\n",
    "-rw-rw-r--  1 siddharthasodariya siddharthasodariya  138 Mar 29 10:49 Pipfile\n",
    "-rw-rw-r--  1 siddharthasodariya siddharthasodariya   70 Mar 29 10:42 pyvenv.cfg"
   ]
  },
  {
   "cell_type": "markdown",
   "metadata": {},
   "source": [
    "siddharthasodariya@sf-cpu-213:~/Django$ pipenv shell\n",
    "Launching subshell in virtual environment...\n",
    "\n",
    "siddharthasodariya@sf-cpu-213:~/Django$  . /home/siddharthasodariya/.local/share/virtualenvs/Django--zOZC_dN/bin/activate\n",
    "(Django) siddharthasodariya@sf-cpu-213:~/Django$ pip list\n",
    "Package            Version\n",
    "------------------ -------\n",
    "asgiref            3.5.0\n",
    "backports.zoneinfo 0.2.1\n",
    "Django             4.0.3\n",
    "pip                22.0.4\n",
    "setuptools         60.10.0\n",
    "sqlparse           0.4.2\n",
    "wheel              0.37.1\n",
    "\n",
    "(Django) siddharthasodariya@sf-cpu-213:~/Django$ pip freeze\n",
    "asgiref==3.5.0\n",
    "backports.zoneinfo==0.2.1\n",
    "Django==4.0.3\n",
    "sqlparse==0.4.2\n",
    "\n",
    "(Django) siddharthasodariya@sf-cpu-213:~/Django$ django-admin\n",
    "\n",
    "Type 'django-admin help <subcommand>' for help on a specific subcommand.\n",
    "\n",
    "Available subcommands:\n",
    "\n",
    "[django]\n",
    "    check\n",
    "    compilemessages\n",
    "    createcachetable\n",
    "    dbshell\n",
    "    diffsettings\n",
    "    dumpdata\n",
    "    flush\n",
    "    inspectdb\n",
    "    loaddata\n",
    "    makemessages\n",
    "    makemigrations\n",
    "    migrate\n",
    "    runserver\n",
    "    sendtestemail\n",
    "    shell\n",
    "    showmigrations\n",
    "    sqlflush\n",
    "    sqlmigrate\n",
    "    sqlsequencereset\n",
    "    squashmigrations\n",
    "    startapp\n",
    "    startproject\n",
    "    test\n",
    "    testserver\n",
    "Note that only Django core commands are listed as settings are not properly configured (error: Requested setting INSTALLED_APPS, but settings are not configured. You must either define the environment variable DJANGO_SETTINGS_MODULE or call settings.configure() before accessing settings.)."
   ]
  },
  {
   "cell_type": "markdown",
   "metadata": {},
   "source": [
    "(Django) siddharthasodariya@sf-cpu-213:~/Django$ ls\n",
    "bin  include  lib  lib64  Pipfile  pyvenv.cfg  try_django\n",
    "\n",
    "(Django) siddharthasodariya@sf-cpu-213:~/Django$ cd try_django\n",
    "\n",
    "(Django) siddharthasodariya@sf-cpu-213:~/Django/try_django$ ls\n",
    "manage.py  try_django\n",
    "\n",
    "(Django) siddharthasodariya@sf-cpu-213:~/Django/try_django$ python3 manage.py\n",
    "\n",
    "Type 'manage.py help <subcommand>' for help on a specific subcommand.\n",
    "\n",
    "Available subcommands:\n",
    "\n",
    "[auth]\n",
    "    changepassword\n",
    "    createsuperuser\n",
    "\n",
    "[contenttypes]\n",
    "    remove_stale_contenttypes\n",
    "\n",
    "[django]\n",
    "    check\n",
    "    compilemessages\n",
    "    createcachetable\n",
    "    dbshell\n",
    "    diffsettings\n",
    "    dumpdata\n",
    "    flush\n",
    "    inspectdb\n",
    "    loaddata\n",
    "    makemessages\n",
    "    makemigrations\n",
    "    migrate\n",
    "    sendtestemail\n",
    "    shell\n",
    "    showmigrations\n",
    "    sqlflush\n",
    "    sqlmigrate\n",
    "    sqlsequencereset\n",
    "    squashmigrations\n",
    "    startapp\n",
    "    startproject\n",
    "    test\n",
    "    testserver\n",
    "\n",
    "[sessions]\n",
    "    clearsessions\n",
    "\n",
    "[staticfiles]\n",
    "    collectstatic\n",
    "    findstatic\n",
    "    runserver\n"
   ]
  },
  {
   "cell_type": "markdown",
   "metadata": {},
   "source": [
    "(Django) siddharthasodariya@sf-cpu-213:~/Django$ pip freeze > requirements.txt\n",
    "(Django) siddharthasodariya@sf-cpu-213:~/Django$ ls\n",
    "bin  include  lib  lib64  Pipfile  pyvenv.cfg  requirements.txt  try_django"
   ]
  },
  {
   "cell_type": "markdown",
   "metadata": {},
   "source": [
    "siddharthasodariya@sf-cpu-213:~/Django$ python3 -m django startproject not_try_django\n",
    "\n",
    "siddharthasodariya@sf-cpu-213:~/Django$ django-admin startproject not1\n",
    "\n",
    "siddharthasodariya@sf-cpu-213:~/Django$ ls\n",
    "bin      lib    not1            Pipfile     requirements.txt\n",
    "include  lib64  not_try_django  pyvenv.cfg  try_django\n",
    "\n",
    "siddharthasodariya@sf-cpu-213:~/Django$ cd not1\n",
    "\n",
    "siddharthasodariya@sf-cpu-213:~/Django/not1$ ls\n",
    "manage.py  not1\n"
   ]
  }
 ],
 "metadata": {
  "kernelspec": {
   "display_name": "Python 3",
   "language": "python",
   "name": "python3"
  },
  "language_info": {
   "codemirror_mode": {
    "name": "ipython",
    "version": 3
   },
   "file_extension": ".py",
   "mimetype": "text/x-python",
   "name": "python",
   "nbconvert_exporter": "python",
   "pygments_lexer": "ipython3",
   "version": "3.8.10"
  }
 },
 "nbformat": 4,
 "nbformat_minor": 2
}
