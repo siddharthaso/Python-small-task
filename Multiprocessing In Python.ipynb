{
 "cells": [
  {
   "cell_type": "markdown",
   "metadata": {},
   "source": [
    "# Multiprocessing In Python\n",
    "\n",
    "The multiprocessing package supports spawning processes. It refers to a function that loads and executes a new child processes. For the child to terminate or to continue executing concurrent computing,then the current process hasto wait using an API, which is similar to threading module.\n",
    "\n",
    "\n"
   ]
  },
  {
   "cell_type": "markdown",
   "metadata": {},
   "source": [
    "# Multiprocessing\n",
    "\n",
    "Multiprocessing refers to using multiple CPUs/processors in a single system. Multiple CPUs can act in a parallel fashion and executes multiple processes together. They increase computing power to a great extent. Symmetric multiprocessing and asymmetric multiprocessing are two types of multiprocessing.\n",
    "\n",
    "# Multithreading\n",
    "\n",
    "Multithreading refers to multiple threads being executed by a single CPU in such a way that each thread is executed in parallel fashion and CPU/processor is switched between them using context switch. Multithreading is a technique to increase the throughput of a processor."
   ]
  },
  {
   "cell_type": "code",
   "execution_count": 7,
   "metadata": {},
   "outputs": [
    {
     "name": "stdout",
     "output_type": "stream",
     "text": [
      "Hi !! I am Python\n"
     ]
    }
   ],
   "source": [
    "from multiprocessing import Process\n",
    "def display():\n",
    "  print ('Hi !! I am Python')\n",
    "if __name__ == '__main__':\n",
    "  p = Process(target=display)\n",
    "  p.start()\n",
    "  p.join()\n",
    "\n",
    "# display()"
   ]
  },
  {
   "cell_type": "code",
   "execution_count": 9,
   "metadata": {},
   "outputs": [
    {
     "name": "stdout",
     "output_type": "stream",
     "text": [
      "Hi !!! Python\n"
     ]
    }
   ],
   "source": [
    "from multiprocessing import Process\n",
    "\n",
    "def display(my_name):\n",
    "   print ('Hi !!!' + \" \" + my_name)\n",
    "\n",
    "if __name__ == '__main__':\n",
    "  p = Process(target=display, args=('Python',))\n",
    "  p.start()\n",
    "  p.join()"
   ]
  },
  {
   "cell_type": "code",
   "execution_count": 3,
   "metadata": {},
   "outputs": [
    {
     "name": "stdout",
     "output_type": "stream",
     "text": [
      "Sleeping 2 second(s)...\n",
      "Sleeping 3 second(s)...\n",
      "Finished in 5.01 second(s)\n"
     ]
    }
   ],
   "source": [
    "import time\n",
    "\n",
    "start = time.perf_counter()\n",
    "\n",
    "def do_something(seconds):\n",
    "    print(f'Sleeping {seconds} second(s)...')\n",
    "    time.sleep(seconds)\n",
    "    return f'Done Sleeping...{seconds}'\n",
    "\n",
    "do_something(2)\n",
    "do_something(3)\n",
    "\n",
    "finish = time.perf_counter()\n",
    "\n",
    "print(f'Finished in {round(finish-start, 2)} second(s)')"
   ]
  },
  {
   "cell_type": "code",
   "execution_count": null,
   "metadata": {},
   "outputs": [
    {
     "name": "stdout",
     "output_type": "stream",
     "text": [
      "Finished in 0.01 second(s)\n",
      "Sleeping 2 second(s)...Sleeping 2 second(s)...\n",
      "\n"
     ]
    }
   ],
   "source": [
    "import multiprocessing\n",
    "import time\n",
    "\n",
    "start = time.perf_counter()\n",
    "\n",
    "def do_something(seconds=2):\n",
    "    print(f'Sleeping {seconds} second(s)...')\n",
    "    time.sleep(seconds)\n",
    "    return f'Done Sleeping...{seconds}'\n",
    "\n",
    "p1 = multiprocessing.Process(target=do_something)\n",
    "p2 = multiprocessing.Process(target=do_something)\n",
    "p1.start()\n",
    "p2.start()\n",
    "\n",
    "\n",
    "finish = time.perf_counter()\n",
    "\n",
    "print(f'Finished in {round(finish-start, 2)} second(s)')"
   ]
  },
  {
   "cell_type": "markdown",
   "metadata": {},
   "source": [
    "This is because when both p1 and p2 are started running then after sleep statement program continue to run. that's why finish stored that time and print after that p1 and p2 will be complete.\n",
    "We can use .join() to wait untill that process is finished."
   ]
  },
  {
   "cell_type": "code",
   "execution_count": 15,
   "metadata": {},
   "outputs": [
    {
     "name": "stdout",
     "output_type": "stream",
     "text": [
      "Sleeping 1.5 second(s)...\n",
      "Sleeping 2 second(s)...\n",
      "Finished in 2.02 second(s)\n"
     ]
    }
   ],
   "source": [
    "import multiprocessing\n",
    "import time\n",
    "\n",
    "start = time.perf_counter()\n",
    "\n",
    "def do_something(seconds=2):\n",
    "    print(f'Sleeping {seconds} second(s)...')\n",
    "    time.sleep(seconds)\n",
    "    return f'Done Sleeping...{seconds}'\n",
    "\n",
    "p1 = multiprocessing.Process(target=do_something, args=[1.5])\n",
    "p2 = multiprocessing.Process(target=do_something)\n",
    "p1.start()\n",
    "p2.start()\n",
    "p1.join()\n",
    "p2.join()\n",
    "\n",
    "finish = time.perf_counter()\n",
    "print(f'Finished in {round(finish-start, 2)} second(s)')"
   ]
  },
  {
   "cell_type": "code",
   "execution_count": 19,
   "metadata": {},
   "outputs": [
    {
     "name": "stdout",
     "output_type": "stream",
     "text": [
      "Sleeping 2 second(s)...\n",
      "Sleeping 2 second(s)...\n",
      "Sleeping 2 second(s)...\n",
      "Sleeping 2 second(s)...\n",
      "Sleeping 2 second(s)...\n",
      "Sleeping 2 second(s)...Sleeping 2 second(s)...\n",
      "Sleeping 2 second(s)...\n",
      "\n",
      "<Process name='Process-107' pid=59428 parent=52168 started>\n",
      "<Process name='Process-108' pid=59431 parent=52168 started>\n",
      "<Process name='Process-109' pid=59436 parent=52168 started>\n",
      "<Process name='Process-110' pid=59441 parent=52168 started>\n",
      "<Process name='Process-111' pid=59446 parent=52168 started>\n",
      "<Process name='Process-112' pid=59451 parent=52168 started>\n",
      "<Process name='Process-113' pid=59454 parent=52168 started>\n",
      "<Process name='Process-114' pid=59459 parent=52168 started>\n",
      "<Process name='Process-115' pid=59466 parent=52168 started>\n",
      "<Process name='Process-116' pid=59471 parent=52168 started>\n",
      "Finished in 0.04 second(s)\n",
      "\n",
      "Sleeping 2 second(s)...\n",
      "Sleeping 2 second(s)...\n"
     ]
    }
   ],
   "source": [
    "start = time.time()\n",
    "\n",
    "def do_something(seconds=2):\n",
    "    print(f'Sleeping {seconds} second(s)...')\n",
    "    time.sleep(seconds)\n",
    "    return f'Done Sleeping...{seconds}'\n",
    "\n",
    "processes =[]\n",
    "\n",
    "for _ in range(10):\n",
    "    p = multiprocessing.Process(target=do_something)\n",
    "    p.start()\n",
    "    processes.append(p)\n",
    "\n",
    "print()\n",
    "for p in processes:\n",
    "    print(p)\n",
    "    # print(p.join())           # finish in 2 seconds\n",
    "\n",
    "#print 8 times in row bcs of 8 CPU number (nproc)\n",
    "\n",
    "finish = time.time()\n",
    "print(f'Finished in {round(finish-start, 2)} second(s)')"
   ]
  },
  {
   "cell_type": "code",
   "execution_count": 22,
   "metadata": {},
   "outputs": [
    {
     "name": "stdout",
     "output_type": "stream",
     "text": [
      "Sleeping [5, 4, 3, 2, 1] second(s)...Sleeping [5, 4, 3, 2, 1] second(s)...Sleeping [5, 4, 3, 2, 1] second(s)...\n",
      "Sleeping [5, 4, 3, 2, 1] second(s)...\n",
      "Sleeping [5, 4, 3, 2, 1] second(s)...\n",
      "\n",
      "\n",
      "<Future at 0x7f24480e0eb0 state=running>\n",
      "<Future at 0x7f244804d730 state=running>\n",
      "<Future at 0x7f244804dd00 state=running>\n",
      "<Future at 0x7f244804d3d0 state=running>\n",
      "<Future at 0x7f244804dac0 state=running>\n",
      "Finished in 0.06 second(s)\n"
     ]
    }
   ],
   "source": [
    "import concurrent.futures\n",
    "\n",
    "start = time.time()\n",
    "\n",
    "\n",
    "def do_something(seconds):\n",
    "    print(f'Sleeping {seconds} second(s)...')\n",
    "    time.sleep(seconds)\n",
    "    return f'Done Sleeping...{seconds}'\n",
    "\n",
    "\n",
    "with concurrent.futures.ProcessPoolExecutor() as executor:\n",
    "    secs = [5, 4, 3, 2, 1]\n",
    "    results = [executor.submit(do_something, secs) for sec in secs]\n",
    "\n",
    "    for result in results:\n",
    "        print(result)\n",
    "\n",
    "finish = time.time()\n",
    "print(f'Finished in {round(finish-start, 2)} second(s)')"
   ]
  },
  {
   "cell_type": "code",
   "execution_count": 27,
   "metadata": {},
   "outputs": [
    {
     "name": "stdout",
     "output_type": "stream",
     "text": [
      "Sleeping 5 second(s)...Sleeping 4 second(s)...Sleeping 2 second(s)...Sleeping 1 second(s)...\n",
      "Sleeping 3 second(s)...\n",
      "\n",
      "\n",
      "\n",
      "Done Sleeping...1\n",
      "Done Sleeping...2\n",
      "Done Sleeping...3\n",
      "Done Sleeping...4\n",
      "Done Sleeping...5\n",
      "Finished in 5.05 second(s)\n"
     ]
    }
   ],
   "source": [
    "import concurrent.futures\n",
    "start = time.time()\n",
    "\n",
    "def do_something(seconds):\n",
    "    print(f'Sleeping {seconds} second(s)...')\n",
    "    time.sleep(seconds)\n",
    "    return f'Done Sleeping...{seconds}'\n",
    "\n",
    "with concurrent.futures.ProcessPoolExecutor() as executor:\n",
    "    secs = [5, 4, 3, 2, 1]\n",
    "    results = [executor.submit(do_something, sec) for sec in secs]\n",
    "\n",
    "    for f in concurrent.futures.as_completed(results):\n",
    "        print(f.result())\n",
    "\n",
    "finish = time.time()\n",
    "print(f'Finished in {round(finish-start, 2)} second(s)')"
   ]
  },
  {
   "cell_type": "code",
   "execution_count": 31,
   "metadata": {},
   "outputs": [
    {
     "name": "stdout",
     "output_type": "stream",
     "text": [
      "Finished in 0.03432376699856832 seconds\n"
     ]
    }
   ],
   "source": [
    "import time\n",
    "import concurrent.futures\n",
    "from PIL import Image, ImageFilter\n",
    "\n",
    "img_names = [\n",
    "    'photo-1549692520-acc6669e2f0c.jpg'\n",
    "]\n",
    "\n",
    "t1 = time.perf_counter()\n",
    "\n",
    "size = (1200, 1200)\n",
    "\n",
    "\n",
    "def process_image(img_name):\n",
    "    img = Image.open(img_name)\n",
    "\n",
    "    img = img.filter(ImageFilter.GaussianBlur(15))\n",
    "\n",
    "    img.thumbnail(size)\n",
    "    img.save(f'processed/{img_name}')\n",
    "    print(f'{img_name} was processed...')\n",
    "\n",
    "\n",
    "with concurrent.futures.ProcessPoolExecutor() as executor:\n",
    "    executor.map(process_image, img_names)\n",
    "\n",
    "\n",
    "t2 = time.perf_counter()\n",
    "\n",
    "print(f'Finished in {t2-t1} seconds')"
   ]
  }
 ],
 "metadata": {
  "kernelspec": {
   "display_name": "Python 3.8.10 64-bit",
   "language": "python",
   "name": "python3"
  },
  "language_info": {
   "codemirror_mode": {
    "name": "ipython",
    "version": 3
   },
   "file_extension": ".py",
   "mimetype": "text/x-python",
   "name": "python",
   "nbconvert_exporter": "python",
   "pygments_lexer": "ipython3",
   "version": "3.8.10"
  },
  "vscode": {
   "interpreter": {
    "hash": "31f2aee4e71d21fbe5cf8b01ff0e069b9275f58929596ceb00d14d90e3e16cd6"
   }
  }
 },
 "nbformat": 4,
 "nbformat_minor": 2
}
